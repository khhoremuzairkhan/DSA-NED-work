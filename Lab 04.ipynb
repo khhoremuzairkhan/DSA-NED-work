{
 "cells": [
  {
   "cell_type": "code",
   "execution_count": 1,
   "metadata": {},
   "outputs": [],
   "source": [
    "def bubbleSort(seq):\n",
    "    for i in range (0,len(seq)-1):\n",
    "        for j in range (i+1,len(seq)):\n",
    "            if seq[i]>seq[j]:\n",
    "                seq[i],seq[j]=seq[j],seq[i]\n",
    "    return seq"
   ]
  },
  {
   "cell_type": "code",
   "execution_count": 2,
   "metadata": {},
   "outputs": [],
   "source": [
    "def insertionSort(a):\n",
    "    for j in range(1,len(a)):\n",
    "        key=a[j]\n",
    "        i=j-1\n",
    "        while(i>=0) and a[i]>key:\n",
    "            a[i+1]=a[i]\n",
    "            i=i-1\n",
    "        a[i+1]=key\n",
    "    return a"
   ]
  },
  {
   "cell_type": "code",
   "execution_count": null,
   "metadata": {},
   "outputs": [],
   "source": [
    "def selectionSort(a):\n",
    "    for i in range (len(a)):\n",
    "        min_index=i\n",
    "        for j in range(i+1,len(a)):\n",
    "            if a[min_index]>a[j]:\n",
    "                min_index=j\n",
    "            a[i],a[min_index]=a[min_index],a[i]\n",
    "    return a"
   ]
  }
 ],
 "metadata": {
  "kernelspec": {
   "display_name": "Python 3",
   "language": "python",
   "name": "python3"
  },
  "language_info": {
   "codemirror_mode": {
    "name": "ipython",
    "version": 3
   },
   "file_extension": ".py",
   "mimetype": "text/x-python",
   "name": "python",
   "nbconvert_exporter": "python",
   "pygments_lexer": "ipython3",
   "version": "3.7.4"
  }
 },
 "nbformat": 4,
 "nbformat_minor": 2
}
