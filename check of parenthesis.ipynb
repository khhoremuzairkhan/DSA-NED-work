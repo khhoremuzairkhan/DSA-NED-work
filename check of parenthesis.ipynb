{
 "cells": [
  {
   "cell_type": "code",
   "execution_count": 1,
   "metadata": {},
   "outputs": [
    {
     "name": "stdout",
     "output_type": "stream",
     "text": [
      "Balanced\n"
     ]
    }
   ],
   "source": [
    "string = '{[(])}'\n",
    "\n",
    "par = 0\n",
    "col = 0\n",
    "cha = 0\n",
    "for i in string:\n",
    "    if i == '{':\n",
    "        cha+=1\n",
    "    if i == '}':\n",
    "        cha-=1\n",
    "    if i == '[':\n",
    "        col+=1\n",
    "    if i == ']':\n",
    "        col-=1\n",
    "    if i == '(':\n",
    "        par+=1\n",
    "    if i == ')':\n",
    "        par-=1\n",
    "    if (cha < 0) or (col < 0) or (par < 0):\n",
    "        print('Unbalanced')\n",
    "        break\n",
    "if (cha != 0) or (col != 0) or (par != 0):\n",
    "    print('Unbalanced')\n",
    "else:\n",
    "    print('Balanced')"
   ]
  },
  {
   "cell_type": "code",
   "execution_count": 2,
   "metadata": {},
   "outputs": [],
   "source": [
    "class Stack():\n",
    "    def __init__(self):\n",
    "        self.stack=[]\n",
    "        self.position=-1\n",
    "    def __setitem__(self,position,data):\n",
    "        self.stack[position]=data\n",
    "    def __getitem__(self,position):\n",
    "        return self.stack[position]\n",
    "        \n",
    "    def push(self,value):\n",
    "        self.stack.append(value)\n",
    "        self.position+=1\n",
    "    def top(self):\n",
    "        print(self.stack[self.position])\n",
    "    def pop(self):\n",
    "        if self.position>=0:\n",
    "            self.stack.pop()\n",
    "            self.position-=1\n",
    "        else:\n",
    "            print('This stack is empty')\n",
    "    def IsEmpty(self):\n",
    "        if len(self.stack)==0:\n",
    "            print('This stack is empty')\n",
    "        else:\n",
    "            print('This stack is not empty')\n",
    "    def len(self):\n",
    "        return len(self.stack)\n",
    "   \n",
    "    # Question 11\n",
    "    def empty_stack(self):\n",
    "        self.stack=[]\n",
    "        position= -1"
   ]
  },
  {
   "cell_type": "code",
   "execution_count": 11,
   "metadata": {},
   "outputs": [
    {
     "name": "stdout",
     "output_type": "stream",
     "text": [
      "Illegal\n"
     ]
    }
   ],
   "source": [
    "def Is_matching(mystr):\n",
    "    openlist = ['(','[','{']\n",
    "    closelist = [')',']','}']\n",
    "    o=Stack()\n",
    "    c=Stack()\n",
    "    for i in mystr:\n",
    "        if i in openlist:\n",
    "            j=openlist.index(i)\n",
    "            o.push(j)\n",
    "        elif i in closelist:\n",
    "            k=closelist.index(i)\n",
    "            c.push(k)\n",
    "            if o.position == c.position:\n",
    "                o.pop()\n",
    "                c.pop()\n",
    "            \n",
    "    if o.position == -1 and c.position == -1:\n",
    "        print('Legal')\n",
    "    else:\n",
    "        print('Illegal')\n",
    "Is_matching('(())')"
   ]
  },
  {
   "cell_type": "code",
   "execution_count": null,
   "metadata": {},
   "outputs": [],
   "source": []
  }
 ],
 "metadata": {
  "kernelspec": {
   "display_name": "Python 3",
   "language": "python",
   "name": "python3"
  },
  "language_info": {
   "codemirror_mode": {
    "name": "ipython",
    "version": 3
   },
   "file_extension": ".py",
   "mimetype": "text/x-python",
   "name": "python",
   "nbconvert_exporter": "python",
   "pygments_lexer": "ipython3",
   "version": "3.7.4"
  }
 },
 "nbformat": 4,
 "nbformat_minor": 2
}
