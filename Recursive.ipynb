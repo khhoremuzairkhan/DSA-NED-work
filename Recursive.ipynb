{
 "cells": [
  {
   "cell_type": "code",
   "execution_count": 1,
   "metadata": {},
   "outputs": [],
   "source": [
    "def recBinarySearch(seq,searchkey,low,high):\n",
    "    #low=0, high=0\n",
    "    if low>high:\n",
    "        return -1\n",
    "    mid = (low+high)//2\n",
    "    if searchkey == seq[mid]:\n",
    "        return mid\n",
    "    elif searchkey>seq[mid]:\n",
    "        #low = mid + 1\n",
    "        return recBinarySearch(seq,searchkey,mid+1,high)\n",
    "    else:\n",
    "        # high = mid -1\n",
    "        return recBinarySearch(seq,searchkey,low,mid-1)"
   ]
  },
  {
   "cell_type": "code",
   "execution_count": 2,
   "metadata": {},
   "outputs": [],
   "source": [
    "def recSequentialSearch(seq,searchkey,index):\n",
    "    if index<len(seq):\n",
    "        if seq[index] == searchkey:\n",
    "            return index\n",
    "        else:\n",
    "            return recSequentialSearch(seq,searchkey,index+1)\n",
    "    else:\n",
    "        return -1"
   ]
  },
  {
   "cell_type": "code",
   "execution_count": null,
   "metadata": {},
   "outputs": [],
   "source": []
  }
 ],
 "metadata": {
  "kernelspec": {
   "display_name": "Python 3",
   "language": "python",
   "name": "python3"
  },
  "language_info": {
   "codemirror_mode": {
    "name": "ipython",
    "version": 3
   },
   "file_extension": ".py",
   "mimetype": "text/x-python",
   "name": "python",
   "nbconvert_exporter": "python",
   "pygments_lexer": "ipython3",
   "version": "3.7.4"
  }
 },
 "nbformat": 4,
 "nbformat_minor": 2
}
