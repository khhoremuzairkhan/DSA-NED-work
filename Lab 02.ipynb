{
 "cells": [
  {
   "cell_type": "code",
   "execution_count": 3,
   "metadata": {},
   "outputs": [
    {
     "name": "stdout",
     "output_type": "stream",
     "text": [
      "Enter number to find whether is it prime number or not:  72\n",
      "  72  is not a prime number\n"
     ]
    }
   ],
   "source": [
    "num=int(input('Enter number to find whether is it prime number or not:  '))\n",
    "prime= False\n",
    "for i in range (2,num):\n",
    "    if num%i==0:\n",
    "        prime=True\n",
    "if prime==False:\n",
    "    print(' ',num,' is a prime number')\n",
    "else:\n",
    "    print(' ',num,' is not a prime number')"
   ]
  },
  {
   "cell_type": "code",
   "execution_count": 6,
   "metadata": {},
   "outputs": [
    {
     "name": "stdout",
     "output_type": "stream",
     "text": [
      "enter number to find its GCD78\n",
      "enter number to find its GCD56\n",
      "The gcd for the numbers  78  and  56  is  2\n"
     ]
    }
   ],
   "source": [
    "x=int(input('enter number to find its GCD'))\n",
    "y=int(input('enter number to find its GCD'))\n",
    "if x > y: \n",
    "    small = y \n",
    "else: \n",
    "    small = x \n",
    "for i in range(1, small+1): \n",
    "    if((x % i == 0) and (y % i == 0)): \n",
    "        gcd = i              \n",
    "print('The gcd for the numbers ',x,' and ',y,' is ',gcd)  "
   ]
  },
  {
   "cell_type": "code",
   "execution_count": 7,
   "metadata": {},
   "outputs": [
    {
     "name": "stdout",
     "output_type": "stream",
     "text": [
      "The greatest number in the List is  588\n"
     ]
    }
   ],
   "source": [
    "List = [2,10,6,1,4,29,87,114,23,65,91,116,400,588,23,45]\n",
    "greatest=List[0]\n",
    "for i in range (0,len(List)):\n",
    "    if List[i]>greatest:\n",
    "        greatest=List[i]\n",
    "print('The greatest number in the List is ',greatest)"
   ]
  },
  {
   "cell_type": "code",
   "execution_count": 1,
   "metadata": {},
   "outputs": [],
   "source": [
    "A=[[12,7,3],[4,5,6],[7,8,9]]\n",
    "B=[[5,8,1],[6,7,3],[4,5,9]]\n",
    "result=[[0,0,0],[0,0,0],[0,0,0]]\n",
    "for i in range(len(A)):\n",
    "   for j in range(len(B[0])):\n",
    "       for k in range(len(B)):\n",
    "           result[i][j] += A[i][k] * B[k][j]\n"
   ]
  },
  {
   "cell_type": "code",
   "execution_count": 2,
   "metadata": {},
   "outputs": [
    {
     "data": {
      "text/plain": [
       "[[114, 160, 60], [74, 97, 73], [119, 157, 112]]"
      ]
     },
     "execution_count": 2,
     "metadata": {},
     "output_type": "execute_result"
    }
   ],
   "source": [
    "result"
   ]
  },
  {
   "cell_type": "code",
   "execution_count": 4,
   "metadata": {},
   "outputs": [
    {
     "name": "stdout",
     "output_type": "stream",
     "text": [
      "Enter a number: 73\n",
      "73 is not an Armstrong number\n"
     ]
    }
   ],
   "source": [
    "num = int(input(\"Enter a number: \"))\n",
    "sum = 0\n",
    "temp = num\n",
    "while temp > 0:\n",
    "   digit = temp % 10\n",
    "   sum += digit ** 3\n",
    "   temp //= 10\n",
    "if num == sum:\n",
    "   print(num,\"is an Armstrong number\")\n",
    "else:\n",
    "   print(num,\"is not an Armstrong number\")"
   ]
  },
  {
   "cell_type": "code",
   "execution_count": null,
   "metadata": {},
   "outputs": [],
   "source": []
  }
 ],
 "metadata": {
  "kernelspec": {
   "display_name": "Python 3",
   "language": "python",
   "name": "python3"
  },
  "language_info": {
   "codemirror_mode": {
    "name": "ipython",
    "version": 3
   },
   "file_extension": ".py",
   "mimetype": "text/x-python",
   "name": "python",
   "nbconvert_exporter": "python",
   "pygments_lexer": "ipython3",
   "version": "3.7.4"
  }
 },
 "nbformat": 4,
 "nbformat_minor": 2
}
