{
 "cells": [
  {
   "cell_type": "code",
   "execution_count": 19,
   "metadata": {},
   "outputs": [],
   "source": [
    "class Stack:\n",
    "    def __init__(self):\n",
    "        self.data = []\n",
    "    def __len__(self):\n",
    "        return len(self.data)\n",
    "    def __str__(self):\n",
    "        return str(self.data)\n",
    "    def is_empty(self):\n",
    "        return len(self.data)==0\n",
    "    def push(self,value):\n",
    "        self.data.append(value)\n",
    "    def top(self):\n",
    "        if self.is_empty():\n",
    "            print('Stack Empty')\n",
    "        else:\n",
    "            return self.data[-1]\n",
    "    def pop(self):\n",
    "        if self.is_empty():\n",
    "            print('Stack Empty')\n",
    "        else:\n",
    "            return self.data.pop()\n",
    "    def empty_stack(self):\n",
    "        self.data=[]"
   ]
  },
  {
   "cell_type": "code",
   "execution_count": 20,
   "metadata": {},
   "outputs": [
    {
     "data": {
      "text/plain": [
       "True"
      ]
     },
     "execution_count": 20,
     "metadata": {},
     "output_type": "execute_result"
    }
   ],
   "source": [
    "def is_matched(expr):\n",
    "    lefty = '([{'\n",
    "    righty = ')]}'\n",
    "    s = Stack()\n",
    "    for c in expr:\n",
    "        if c in lefty:\n",
    "            s.push(c)\n",
    "        elif c in righty:\n",
    "            if s.is_empty():\n",
    "                return False\n",
    "            if righty.index(c) != lefty.index(s.pop()):\n",
    "                return False\n",
    "    return s.is_empty()\n",
    "is_matched('{[()]}()')"
   ]
  },
  {
   "cell_type": "code",
   "execution_count": 21,
   "metadata": {},
   "outputs": [
    {
     "data": {
      "text/plain": [
       "1"
      ]
     },
     "execution_count": 21,
     "metadata": {},
     "output_type": "execute_result"
    }
   ],
   "source": [
    "a=Stack()\n",
    "a.push(5)\n",
    "a.is_empty()\n",
    "len(a)"
   ]
  },
  {
   "cell_type": "code",
   "execution_count": 22,
   "metadata": {},
   "outputs": [
    {
     "data": {
      "text/plain": [
       "5"
      ]
     },
     "execution_count": 22,
     "metadata": {},
     "output_type": "execute_result"
    }
   ],
   "source": [
    "a.top()"
   ]
  },
  {
   "cell_type": "code",
   "execution_count": 23,
   "metadata": {},
   "outputs": [
    {
     "data": {
      "text/plain": [
       "5"
      ]
     },
     "execution_count": 23,
     "metadata": {},
     "output_type": "execute_result"
    }
   ],
   "source": [
    "a.pop()"
   ]
  },
  {
   "cell_type": "code",
   "execution_count": 24,
   "metadata": {},
   "outputs": [
    {
     "name": "stdout",
     "output_type": "stream",
     "text": [
      "Stack Empty\n"
     ]
    }
   ],
   "source": [
    "a.pop()"
   ]
  },
  {
   "cell_type": "code",
   "execution_count": 27,
   "metadata": {},
   "outputs": [],
   "source": [
    "a.push('o')"
   ]
  },
  {
   "cell_type": "code",
   "execution_count": 28,
   "metadata": {},
   "outputs": [
    {
     "name": "stdout",
     "output_type": "stream",
     "text": [
      "\n"
     ]
    },
    {
     "data": {
      "text/plain": [
       "True"
      ]
     },
     "execution_count": 28,
     "metadata": {},
     "output_type": "execute_result"
    }
   ],
   "source": [
    "a.is_empty()\n",
    "print('')\n",
    "a.empty_stack()\n",
    "a.is_empty()"
   ]
  },
  {
   "cell_type": "code",
   "execution_count": null,
   "metadata": {},
   "outputs": [],
   "source": []
  }
 ],
 "metadata": {
  "kernelspec": {
   "display_name": "Python 3",
   "language": "python",
   "name": "python3"
  },
  "language_info": {
   "codemirror_mode": {
    "name": "ipython",
    "version": 3
   },
   "file_extension": ".py",
   "mimetype": "text/x-python",
   "name": "python",
   "nbconvert_exporter": "python",
   "pygments_lexer": "ipython3",
   "version": "3.7.4"
  }
 },
 "nbformat": 4,
 "nbformat_minor": 2
}
