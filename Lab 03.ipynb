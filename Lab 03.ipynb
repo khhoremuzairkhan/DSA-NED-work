{
 "cells": [
  {
   "cell_type": "code",
   "execution_count": 1,
   "metadata": {},
   "outputs": [],
   "source": [
    "def sequentialSearch(seq,searchkey):\n",
    "    searchFlag=bool(0)\n",
    "    searchIndex=int()\n",
    "    for i in range (0,len(seq)):\n",
    "        if searchkey==seq[i]:\n",
    "            searchFlag=1\n",
    "            searchIndex=i\n",
    "            break\n",
    "    if searchFlag==0:\n",
    "        return -1\n",
    "    else:\n",
    "        return searchIndex"
   ]
  },
  {
   "cell_type": "code",
   "execution_count": null,
   "metadata": {},
   "outputs": [],
   "source": [
    "def binarySearch(seq,searchkey):\n",
    "    low=0\n",
    "    high=len(sequence)-1\n",
    "    while low<=high:\n",
    "        mid=(low+high)//2\n",
    "        if seq[mid]==searchkey:\n",
    "            return mid\n",
    "        elif seq[mid]<searchkey:\n",
    "            low=mid+1\n",
    "        else:\n",
    "            high=mid-1\n",
    "    return -1"
   ]
  }
 ],
 "metadata": {
  "kernelspec": {
   "display_name": "Python 3",
   "language": "python",
   "name": "python3"
  },
  "language_info": {
   "codemirror_mode": {
    "name": "ipython",
    "version": 3
   },
   "file_extension": ".py",
   "mimetype": "text/x-python",
   "name": "python",
   "nbconvert_exporter": "python",
   "pygments_lexer": "ipython3",
   "version": "3.7.4"
  }
 },
 "nbformat": 4,
 "nbformat_minor": 2
}
