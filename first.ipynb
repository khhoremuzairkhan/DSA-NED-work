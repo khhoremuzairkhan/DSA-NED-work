{
 "cells": [
  {
   "cell_type": "code",
   "execution_count": 3,
   "metadata": {},
   "outputs": [
    {
     "name": "stdout",
     "output_type": "stream",
     "text": [
      "Anaconda\n",
      "Anaconda\n",
      "Anaconda\n",
      "Anaconda\n",
      "Anaconda\n",
      "\n"
     ]
    }
   ],
   "source": [
    "print('Anaconda\\n'*5)"
   ]
  },
  {
   "cell_type": "code",
   "execution_count": 4,
   "metadata": {},
   "outputs": [
    {
     "name": "stdout",
     "output_type": "stream",
     "text": [
      "Hello World!\n",
      "Hello World!\n",
      "Hello World!\n",
      "Hello World!\n",
      "Hello World!\n",
      "\n"
     ]
    }
   ],
   "source": [
    "print('Hello World!\\n'*5)"
   ]
  },
  {
   "cell_type": "code",
   "execution_count": 5,
   "metadata": {},
   "outputs": [
    {
     "name": "stdout",
     "output_type": "stream",
     "text": [
      "Enter a number8\n",
      "8\n"
     ]
    }
   ],
   "source": [
    "num=input('Enter a number')\n",
    "print(num)"
   ]
  },
  {
   "cell_type": "code",
   "execution_count": 7,
   "metadata": {},
   "outputs": [
    {
     "name": "stdout",
     "output_type": "stream",
     "text": [
      "Enter Height: 3\n",
      "Enter weight: 2\n",
      "2.0 3.0\n"
     ]
    }
   ],
   "source": [
    "a=float(input('Enter Height: '))\n",
    "b=float(input('Enter weight: '))\n",
    "a,b=b,a\n",
    "print(a,b)"
   ]
  },
  {
   "cell_type": "code",
   "execution_count": 9,
   "metadata": {},
   "outputs": [
    {
     "name": "stdout",
     "output_type": "stream",
     "text": [
      "*\n",
      "**\n",
      "***\n",
      "****\n",
      "*****\n"
     ]
    }
   ],
   "source": [
    "for i in range (1,6):\n",
    "    print('*'*i)"
   ]
  },
  {
   "cell_type": "code",
   "execution_count": 10,
   "metadata": {},
   "outputs": [
    {
     "name": "stdout",
     "output_type": "stream",
     "text": [
      "Enter number of rows5\n",
      "     *\n",
      "    **\n",
      "   ***\n",
      "  ****\n",
      " *****\n"
     ]
    }
   ],
   "source": [
    "n=int(input('Enter number of rows'))\n",
    "space=n \n",
    "for i in range(0,n):\n",
    "    for j in range (0,space):\n",
    "        print(' ',end='')\n",
    "    space=space-1\n",
    "    for k in range (0,i+1):\n",
    "        print('*',end='')\n",
    "    print('')    "
   ]
  },
  {
   "cell_type": "code",
   "execution_count": 1,
   "metadata": {},
   "outputs": [
    {
     "name": "stdout",
     "output_type": "stream",
     "text": [
      "Enter number of rows7\n",
      "      \n",
      "     *\n",
      "    ***\n",
      "   *****\n",
      "  *******\n",
      " *********\n",
      "***********\n"
     ]
    }
   ],
   "source": [
    "n=int(input('Enter number of rows'))\n",
    "\n",
    "for i in range(0,n):\n",
    "    for j in range (1,n-i):\n",
    "        print(' ',end='')\n",
    "    for k in range (0,i*2-1):\n",
    "        print ('*',end='')\n",
    "    print ('')    \n",
    "    "
   ]
  },
  {
   "cell_type": "code",
   "execution_count": 1,
   "metadata": {},
   "outputs": [
    {
     "name": "stdout",
     "output_type": "stream",
     "text": [
      "Enter number of rows4\n",
      " \n",
      " *\n"
     ]
    }
   ],
   "source": [
    "n=int(input('Enter number of rows'))\n",
    "p=int(n/2)\n",
    "q=n-p\n",
    "for i in range (0,q):\n",
    "    for j in range (1,q):\n",
    "        print(' ',end='')\n",
    "    for k in range (0,i*2-1):\n",
    "        print('*',end='')\n",
    "    print('')    \n",
    "\n",
    "    "
   ]
  },
  {
   "cell_type": "code",
   "execution_count": 2,
   "metadata": {},
   "outputs": [
    {
     "name": "stdout",
     "output_type": "stream",
     "text": [
      "10 11 12\n"
     ]
    }
   ],
   "source": [
    "# from Sir Hassan's lectures\n",
    "x,y,z=10,11,12\n",
    "print(x,y,z)"
   ]
  },
  {
   "cell_type": "code",
   "execution_count": 3,
   "metadata": {},
   "outputs": [
    {
     "name": "stdout",
     "output_type": "stream",
     "text": [
      "12\n",
      "3.1412\n",
      "name\n",
      "12 3.1412 name\n"
     ]
    }
   ],
   "source": [
    "a=12\n",
    "pi=3.1412\n",
    "name='name'\n",
    "print(a)\n",
    "print(pi)\n",
    "print(name)\n",
    "print(a,pi,name)"
   ]
  },
  {
   "cell_type": "code",
   "execution_count": 5,
   "metadata": {},
   "outputs": [
    {
     "name": "stdout",
     "output_type": "stream",
     "text": [
      "EE-12\n",
      "3\n"
     ]
    }
   ],
   "source": [
    "rollNumber=str(12)\n",
    "print('EE-'+rollNumber)\n",
    "num=int(3.5)\n",
    "print(num)\n"
   ]
  },
  {
   "cell_type": "code",
   "execution_count": null,
   "metadata": {},
   "outputs": [],
   "source": []
  }
 ],
 "metadata": {
  "kernelspec": {
   "display_name": "Python 3",
   "language": "python",
   "name": "python3"
  },
  "language_info": {
   "codemirror_mode": {
    "name": "ipython",
    "version": 3
   },
   "file_extension": ".py",
   "mimetype": "text/x-python",
   "name": "python",
   "nbconvert_exporter": "python",
   "pygments_lexer": "ipython3",
   "version": "3.7.4"
  }
 },
 "nbformat": 4,
 "nbformat_minor": 2
}
