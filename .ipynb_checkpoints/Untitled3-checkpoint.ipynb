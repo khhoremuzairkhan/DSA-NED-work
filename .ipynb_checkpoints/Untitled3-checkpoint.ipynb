{
 "cells": [
  {
   "cell_type": "code",
   "execution_count": 1,
   "metadata": {},
   "outputs": [
    {
     "name": "stdout",
     "output_type": "stream",
     "text": [
      "['Sameer', 'Sheikh']\n",
      "Sheikh\n"
     ]
    }
   ],
   "source": [
    "\n",
    "name=\"Sameer Sheikh\"\n",
    "last=name.split(' ')\n",
    "print (last)\n",
    "lastname=last[len(last)-1]\n",
    "print(lastname)\n",
    "\n"
   ]
  },
  {
   "cell_type": "code",
   "execution_count": 3,
   "metadata": {},
   "outputs": [
    {
     "name": "stdout",
     "output_type": "stream",
     "text": [
      "['Khhorem', 'Uzair', 'Khan']\n",
      "Khan\n"
     ]
    }
   ],
   "source": [
    "name=\"Khhorem Uzair Khan\"\n",
    "last=name.split(' ')\n",
    "print (last)\n",
    "lastname=last[len(last)-1]\n",
    "print(lastname)\n"
   ]
  },
  {
   "cell_type": "code",
   "execution_count": null,
   "metadata": {},
   "outputs": [],
   "source": []
  }
 ],
 "metadata": {
  "kernelspec": {
   "display_name": "Python 3",
   "language": "python",
   "name": "python3"
  },
  "language_info": {
   "codemirror_mode": {
    "name": "ipython",
    "version": 3
   },
   "file_extension": ".py",
   "mimetype": "text/x-python",
   "name": "python",
   "nbconvert_exporter": "python",
   "pygments_lexer": "ipython3",
   "version": "3.7.4"
  }
 },
 "nbformat": 4,
 "nbformat_minor": 2
}
