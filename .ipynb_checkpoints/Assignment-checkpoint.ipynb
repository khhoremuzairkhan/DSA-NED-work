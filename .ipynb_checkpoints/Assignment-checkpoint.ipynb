{
 "cells": [
  {
   "cell_type": "code",
   "execution_count": 36,
   "metadata": {},
   "outputs": [],
   "source": [
    "class Stack:\n",
    "    def __init__(self):\n",
    "        self.data = []\n",
    "    def __len__(self):\n",
    "        return len(self.data)\n",
    "    def __str__(self):\n",
    "        return str(self.data)\n",
    "    def is_empty(self):\n",
    "        return len(self.data)==0\n",
    "    def push(self,value):\n",
    "        self.data.append(value)\n",
    "    def top(self):\n",
    "        if len(self.data)==0:\n",
    "            print('Stack Empty')\n",
    "        else:\n",
    "            return self.data[-1]\n",
    "    def pop(self):\n",
    "        if len(self.data)==0:\n",
    "            print('Stack Empty')\n",
    "        else:\n",
    "            return self.data.pop()\n",
    "    def empty_stack(self):\n",
    "        self.data=[]"
   ]
  },
  {
   "cell_type": "code",
   "execution_count": 37,
   "metadata": {},
   "outputs": [
    {
     "data": {
      "text/plain": [
       "True"
      ]
     },
     "execution_count": 37,
     "metadata": {},
     "output_type": "execute_result"
    }
   ],
   "source": [
    "def is_matched(expr):\n",
    "    lefty = '([{'\n",
    "    righty = ')]}'\n",
    "    s = Stack()\n",
    "    for c in expr:\n",
    "        if c in lefty:\n",
    "            s.push(c)\n",
    "        elif c in righty:\n",
    "            if s.is_empty():\n",
    "                return False\n",
    "            if righty.index(c) != lefty.index(s.pop()):\n",
    "                return False\n",
    "    return s.is_empty()\n",
    "is_matched('{[()]}()')"
   ]
  },
  {
   "cell_type": "code",
   "execution_count": 38,
   "metadata": {},
   "outputs": [],
   "source": [
    "class Queue:\n",
    "    def __init__(self):\n",
    "        self.data=[]\n",
    "    def __len__(self):\n",
    "        return len(self.data)\n",
    "    def enqueue(self,val):\n",
    "        self.data.append(val)\n",
    "    def is_empty(self):\n",
    "        return len(self.data)==0\n",
    "    def dequeue(self):\n",
    "        if len(self.data)==0:\n",
    "            print('Queue is empty')\n",
    "        else:\n",
    "            print(self.data[0])\n",
    "            self.data.pop(0)\n",
    "    def First(self):\n",
    "        if len(self.data)==0:\n",
    "            print(\"Queue is empty\")\n",
    "        else:\n",
    "            print(0)\n",
    "    "
   ]
  },
  {
   "cell_type": "code",
   "execution_count": 39,
   "metadata": {},
   "outputs": [
    {
     "name": "stdout",
     "output_type": "stream",
     "text": [
      "0\n",
      "Queue is empty\n"
     ]
    }
   ],
   "source": [
    "a=Queue()\n",
    "print(len(a))\n",
    "a.dequeue()"
   ]
  },
  {
   "cell_type": "code",
   "execution_count": 1,
   "metadata": {},
   "outputs": [
    {
     "name": "stdout",
     "output_type": "stream",
     "text": [
      "2\n",
      "2\n",
      "2\n",
      "2\n",
      "2\n",
      "2\n",
      "2\n",
      "2\n",
      "2\n",
      "2\n",
      "2\n",
      "2\n",
      "2\n",
      "2\n",
      "2\n",
      "2\n",
      "2\n",
      "2\n",
      "2\n",
      "2\n",
      "2.0 2.0 2.0 2.0 2.0 2.0 2.0 2.0 2.0 2.0 \n",
      "2.0 2.0 2.0 2.0 2.0 2.0 2.0 2.0 2.0 2.0 \n"
     ]
    }
   ],
   "source": [
    "def Input(row):\n",
    "    for i in range(0,10):\n",
    "        row.append(float(input()))\n",
    "m=[]\n",
    "for i in range(0,2):\n",
    "    \n",
    "    r=[]\n",
    "    Input(r)\n",
    "    m.append(r)\n",
    "for i in range (0,len(m)):\n",
    "    for j in range (0,len(m[i])):\n",
    "        print(m[i][j], end=' ')\n",
    "    print('')"
   ]
  },
  {
   "cell_type": "markdown",
   "metadata": {},
   "source": [
    "## "
   ]
  }
 ],
 "metadata": {
  "kernelspec": {
   "display_name": "Python 3",
   "language": "python",
   "name": "python3"
  },
  "language_info": {
   "codemirror_mode": {
    "name": "ipython",
    "version": 3
   },
   "file_extension": ".py",
   "mimetype": "text/x-python",
   "name": "python",
   "nbconvert_exporter": "python",
   "pygments_lexer": "ipython3",
   "version": "3.7.4"
  }
 },
 "nbformat": 4,
 "nbformat_minor": 2
}
