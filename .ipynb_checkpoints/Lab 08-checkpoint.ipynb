{
 "cells": [
  {
   "cell_type": "code",
   "execution_count": 33,
   "metadata": {},
   "outputs": [],
   "source": [
    "class Person():\n",
    "    def __init__(self,name,job='',pay=0):\n",
    "        self.name=name\n",
    "        self.job=job\n",
    "        self.pay=pay\n",
    "    def lastName(self):\n",
    "        last=self.name.split(' ')\n",
    "        self.lastname=last[len(last)-1]\n",
    "        print(self.lastname)\n",
    "    def giveRaise(self,percent):\n",
    "        self.pay=self.pay+(self.pay*percent/100) \n",
    "    def info(self):\n",
    "        print('Name:  '+self.name)\n",
    "        print('Pay:  '+str(self.pay))\n",
    "        "
   ]
  },
  {
   "cell_type": "code",
   "execution_count": 46,
   "metadata": {},
   "outputs": [],
   "source": [
    "class Manager(Person):\n",
    "    def __init__(self,name,pay=0):\n",
    "        self.name=name\n",
    "        self.job='Manager'\n",
    "        self.pay=pay\n",
    "    def giveRaise(self,percent):\n",
    "        self.pay=self.pay+(self.pay*(percent+10)/100)\n",
    "        "
   ]
  },
  {
   "cell_type": "code",
   "execution_count": 50,
   "metadata": {},
   "outputs": [],
   "source": [
    "class Department():\n",
    "    def __init__(self):\n",
    "        self.name=str()\n",
    "        self.job=str()\n",
    "        self.lastname=str()\n",
    "        self.pay=float()\n",
    "    def addMember(self,name,job,pay):\n",
    "        if job=='Manager':\n",
    "            self.obj=Manager(name,pay)\n",
    "        else:\n",
    "            self.obj=Person(name,job,pay)\n",
    "    def giveRaise(self,percent):\n",
    "        self.obj.giveRaise(percent)\n",
    "    def showALL(self):\n",
    "        return self.obj.info()"
   ]
  },
  {
   "cell_type": "code",
   "execution_count": 51,
   "metadata": {},
   "outputs": [
    {
     "name": "stdout",
     "output_type": "stream",
     "text": [
      "Name:  Bilal Akhtar\n",
      "Pay:  5000\n",
      "Name:  Ahmed Salik\n",
      "Pay:  5000\n",
      "Name:  Bilal Akhtar\n",
      "Pay:  6000.0\n",
      "Name:  Ahmed Salik\n",
      "Pay:  5500.0\n"
     ]
    }
   ],
   "source": [
    "A_001=Department()\n",
    "A_002=Department()\n",
    "A_001.addMember('Bilal Akhtar','Manager',5000)\n",
    "A_002.addMember('Ahmed Salik','Salesman',5000)\n",
    "A_001.showALL()\n",
    "A_002.showALL()\n",
    "A_001.giveRaise(10)\n",
    "A_002.giveRaise(10)\n",
    "#A_001.lastName()\n",
    "#A_002.lastName()\n",
    "A_001.showALL()\n",
    "A_002.showALL()"
   ]
  },
  {
   "cell_type": "code",
   "execution_count": 52,
   "metadata": {},
   "outputs": [
    {
     "name": "stdout",
     "output_type": "stream",
     "text": [
      "Name:  jee\n",
      "Pay:  6000.0\n"
     ]
    }
   ],
   "source": [
    "x=Manager('jee',5000)\n",
    "x.giveRaise(10)\n",
    "x.info()"
   ]
  },
  {
   "cell_type": "code",
   "execution_count": null,
   "metadata": {},
   "outputs": [],
   "source": []
  }
 ],
 "metadata": {
  "kernelspec": {
   "display_name": "Python 3",
   "language": "python",
   "name": "python3"
  },
  "language_info": {
   "codemirror_mode": {
    "name": "ipython",
    "version": 3
   },
   "file_extension": ".py",
   "mimetype": "text/x-python",
   "name": "python",
   "nbconvert_exporter": "python",
   "pygments_lexer": "ipython3",
   "version": "3.7.4"
  }
 },
 "nbformat": 4,
 "nbformat_minor": 2
}
