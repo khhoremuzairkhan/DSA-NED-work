{
 "cells": [
  {
   "cell_type": "markdown",
   "metadata": {},
   "source": [
    "# Merge Sort"
   ]
  },
  {
   "cell_type": "code",
   "execution_count": 2,
   "metadata": {},
   "outputs": [],
   "source": [
    "def merge(list1,list2,combinedlist):\n",
    "    i=j=k=0\n",
    "    while i<len(list1) and j<len(list2):\n",
    "        if list1[i]<list2[j]:\n",
    "            combinedlist[k]=list1[i]\n",
    "            i+=1\n",
    "        else:\n",
    "            combinedlist[k]=list2[j]\n",
    "            j+=1\n",
    "        k+=1\n",
    "    while i<len(list1):\n",
    "        combinedlist[k]=list1[i]\n",
    "        i+=1\n",
    "        k+=1\n",
    "    while j<len(list2):\n",
    "        combinedlist[k]=list2[j]\n",
    "        j+=1\n",
    "        k+=1"
   ]
  },
  {
   "cell_type": "code",
   "execution_count": 3,
   "metadata": {},
   "outputs": [],
   "source": [
    "def merge_sort(sequence):\n",
    "    if len(sequence)>1:\n",
    "        mid=len(sequence)//2\n",
    "        list1=sequence[:mid]\n",
    "        list2=sequence[mid:]\n",
    "        merge_sort(list1)\n",
    "        merge_sort(list2)\n",
    "        merge(list1,list2,sequence)\n",
    "    else:\n",
    "        return"
   ]
  },
  {
   "cell_type": "code",
   "execution_count": 4,
   "metadata": {},
   "outputs": [],
   "source": [
    "def generateRandomList(size,start,end):\n",
    "    import random\n",
    "    seq=[]\n",
    "    for i in range(0,size):\n",
    "        seq=seq+[random.randint(start,end)]\n",
    "    return seq"
   ]
  },
  {
   "cell_type": "code",
   "execution_count": 5,
   "metadata": {},
   "outputs": [
    {
     "name": "stdout",
     "output_type": "stream",
     "text": [
      "1000\n",
      "17.2 ms ± 3.39 ms per loop (mean ± std. dev. of 7 runs, 10 loops each)\n",
      "2000\n",
      "26.8 ms ± 2.43 ms per loop (mean ± std. dev. of 7 runs, 10 loops each)\n",
      "3000\n",
      "32.6 ms ± 1.46 ms per loop (mean ± std. dev. of 7 runs, 10 loops each)\n",
      "4000\n",
      "61.6 ms ± 8.12 ms per loop (mean ± std. dev. of 7 runs, 10 loops each)\n",
      "5000\n",
      "71.1 ms ± 16.7 ms per loop (mean ± std. dev. of 7 runs, 10 loops each)\n",
      "6000\n",
      "107 ms ± 17.3 ms per loop (mean ± std. dev. of 7 runs, 10 loops each)\n",
      "7000\n",
      "149 ms ± 50.9 ms per loop (mean ± std. dev. of 7 runs, 1 loop each)\n",
      "8000\n",
      "102 ms ± 35.4 ms per loop (mean ± std. dev. of 7 runs, 10 loops each)\n"
     ]
    }
   ],
   "source": [
    "# Best case in Merge sort\n",
    "for i in range (4000,32001,4000):\n",
    "    A=generateRandomList(i,1,100000)\n",
    "    A.sort(reverse=True)\n",
    "    print(i)\n",
    "    %timeit merge_sort(A)"
   ]
  },
  {
   "cell_type": "code",
   "execution_count": 12,
   "metadata": {},
   "outputs": [
    {
     "name": "stdout",
     "output_type": "stream",
     "text": [
      "2000\n",
      "34.8 ms ± 3.5 ms per loop (mean ± std. dev. of 7 runs, 10 loops each)\n",
      "4000\n",
      "64.7 ms ± 11.3 ms per loop (mean ± std. dev. of 7 runs, 10 loops each)\n",
      "6000\n",
      "93 ms ± 12.8 ms per loop (mean ± std. dev. of 7 runs, 10 loops each)\n",
      "8000\n",
      "126 ms ± 33.3 ms per loop (mean ± std. dev. of 7 runs, 10 loops each)\n",
      "10000\n",
      "188 ms ± 23 ms per loop (mean ± std. dev. of 7 runs, 10 loops each)\n",
      "12000\n",
      "163 ms ± 39.6 ms per loop (mean ± std. dev. of 7 runs, 10 loops each)\n",
      "14000\n",
      "280 ms ± 35.6 ms per loop (mean ± std. dev. of 7 runs, 1 loop each)\n",
      "16000\n",
      "316 ms ± 42.8 ms per loop (mean ± std. dev. of 7 runs, 1 loop each)\n"
     ]
    }
   ],
   "source": [
    "# Best case in Merge sort\n",
    "for i in range (2000,16001,2000):\n",
    "    A=generateRandomList(i,1,100000)\n",
    "    A.sort(reverse=True)\n",
    "    print(i)\n",
    "    %timeit merge_sort(A)"
   ]
  },
  {
   "cell_type": "code",
   "execution_count": 14,
   "metadata": {},
   "outputs": [
    {
     "data": {
      "image/png": "[encoded data removed]",
      "text/plain": [
       "<Figure size 432x288 with 1 Axes>"
      ]
     },
     "metadata": {
      "needs_background": "light"
     },
     "output_type": "display_data"
    }
   ],
   "source": [
    "import matplotlib.pyplot as plt\n",
    "y=[0.0348,0.0647,0.093,0.126,0.163,0.188,0.280,0.316]\n",
    "x=[]\n",
    "for i in range(2000,16001,2000):\n",
    "    x.append(i)\n",
    "plt.plot(x,y)\n",
    "plt.title('Merge Sort Worst Case')\n",
    "plt.ylabel('time (s)')\n",
    "plt.xlabel('number of elements (n)')\n",
    "plt.show()"
   ]
  },
  {
   "cell_type": "code",
   "execution_count": null,
   "metadata": {},
   "outputs": [],
   "source": []
  }
 ],
 "metadata": {
  "kernelspec": {
   "display_name": "Python 3",
   "language": "python",
   "name": "python3"
  },
  "language_info": {
   "codemirror_mode": {
    "name": "ipython",
    "version": 3
   },
   "file_extension": ".py",
   "mimetype": "text/x-python",
   "name": "python",
   "nbconvert_exporter": "python",
   "pygments_lexer": "ipython3",
   "version": "3.7.4"
  }
 },
 "nbformat": 4,
 "nbformat_minor": 2
}
