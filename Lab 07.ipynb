{
 "cells": [
  {
   "cell_type": "code",
   "execution_count": 14,
   "metadata": {},
   "outputs": [],
   "source": [
    "class Shape():\n",
    "    def __init__(self):\n",
    "        self.length=float(input('Enter length:  '))\n",
    "        self.breadth=float(input('Enter breadth:  '))\n",
    "    def setLength(self,newlength):\n",
    "        self.length=newlength\n",
    "    def setbreadth(self,newbreadth):\n",
    "        self.breadth=newbreadth\n",
    "        "
   ]
  },
  {
   "cell_type": "code",
   "execution_count": 15,
   "metadata": {},
   "outputs": [],
   "source": [
    "class Triangle(Shape):\n",
    "    def __init__(self):\n",
    "        self.length=float(input('Enter length:  '))\n",
    "        self.height=float(input('Enter height:  '))\n",
    "        self.area=float(0.5*self.length*self.height)\n",
    "    def getArea(self):\n",
    "        print('The area of triangle is:  '+str(self.area)+ ' units')"
   ]
  },
  {
   "cell_type": "code",
   "execution_count": 16,
   "metadata": {},
   "outputs": [],
   "source": [
    "class Rectangle(Shape):\n",
    "    def getArea(self):\n",
    "        self.area=float(self.breadth*self.length)\n",
    "        print('The area of triange is:  '+str(self.area)+' units')"
   ]
  },
  {
   "cell_type": "code",
   "execution_count": 17,
   "metadata": {},
   "outputs": [
    {
     "name": "stdout",
     "output_type": "stream",
     "text": [
      "Enter type of shape, r=rectangle, t=triangle:    t\n",
      "Enter length:  12\n",
      "Enter height:  4\n",
      "The area of triangle is:  24.0 units\n"
     ]
    }
   ],
   "source": [
    "shape=input('Enter type of shape, r=rectangle, t=triangle:    ')\n",
    "if shape=='r':\n",
    "    a=Rectangle()\n",
    "    a.getArea()\n",
    "elif shape=='t':\n",
    "    b=Triangle()\n",
    "    b.getArea()"
   ]
  },
  {
   "cell_type": "code",
   "execution_count": null,
   "metadata": {},
   "outputs": [],
   "source": []
  }
 ],
 "metadata": {
  "kernelspec": {
   "display_name": "Python 3",
   "language": "python",
   "name": "python3"
  },
  "language_info": {
   "codemirror_mode": {
    "name": "ipython",
    "version": 3
   },
   "file_extension": ".py",
   "mimetype": "text/x-python",
   "name": "python",
   "nbconvert_exporter": "python",
   "pygments_lexer": "ipython3",
   "version": "3.7.4"
  }
 },
 "nbformat": 4,
 "nbformat_minor": 2
}
