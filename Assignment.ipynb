{
 "cells": [
  {
   "cell_type": "markdown",
   "metadata": {},
   "source": [
    "Q 8"
   ]
  },
  {
   "cell_type": "code",
   "execution_count": 4,
   "metadata": {},
   "outputs": [],
   "source": [
    "class Stack():\n",
    "    def __init__(self):\n",
    "        self.stack=[]\n",
    "        self.position=-1\n",
    "    def __setitem__(self,position,data):\n",
    "        self.stack[position]=data\n",
    "    def __getitem__(self,position):\n",
    "        return self.stack[position]\n",
    "        \n",
    "    def push(self,value):\n",
    "        self.stack.append(value)\n",
    "        self.position+=1\n",
    "    def top(self):\n",
    "        print(self.stack[self.position])\n",
    "    def pop(self):\n",
    "        if self.position>=0:\n",
    "            self.stack.pop()\n",
    "            self.position-=1\n",
    "        else:\n",
    "            print('This stack is empty')\n",
    "    def IsEmpty(self):\n",
    "        if len(self.stack)==0:\n",
    "            print('This stack is empty')\n",
    "        else:\n",
    "            print('This stack is not empty')\n",
    "    def len(self):\n",
    "        return len(self.stack)\n",
    "   \n",
    "    # Question 11\n",
    "    def empty_stack(self):\n",
    "        self.stack=[]\n",
    "        position= -1"
   ]
  },
  {
   "cell_type": "code",
   "execution_count": 5,
   "metadata": {},
   "outputs": [
    {
     "name": "stdout",
     "output_type": "stream",
     "text": [
      "\n",
      "2\n",
      "\n",
      "This stack is not empty\n",
      "This stack is empty\n"
     ]
    }
   ],
   "source": [
    "S=Stack()\n",
    "S.push(1)\n",
    "S.push(2)\n",
    "S.len()\n",
    "print('')\n",
    "S.top()\n",
    "S.len()\n",
    "print('')\n",
    "S.IsEmpty()\n",
    "S.pop()\n",
    "S.pop()\n",
    "S.IsEmpty()"
   ]
  },
  {
   "cell_type": "code",
   "execution_count": 6,
   "metadata": {},
   "outputs": [],
   "source": [
    "def Is_matched():\n",
    "    openList = [\"[\",\"{\",\"(\"]\n",
    "    closeList = [\"]\",\"}\",\")\"]\n",
    "    expression=input('Enter mathematical expression\\n')\n",
    "    stack= []\n",
    "    for i in expression:\n",
    "        if i in openList:\n",
    "            stack.append(i)\n",
    "        elif i in closeList:\n",
    "            pos = closeList.index(i)\n",
    "            if ((len(stack) > 0) and (openList[pos] == stack[len(stack)-1])):\n",
    "                stack.pop()\n",
    "            else:\n",
    "                return \"Unbalanced\"\n",
    "    if len(stack) == 0:\n",
    "        return \"Balanced\"\n",
    "\n",
    " "
   ]
  },
  {
   "cell_type": "code",
   "execution_count": 7,
   "metadata": {},
   "outputs": [
    {
     "name": "stdout",
     "output_type": "stream",
     "text": [
      "Enter mathematical expression\n",
      "\n"
     ]
    },
    {
     "data": {
      "text/plain": [
       "'Balanced'"
      ]
     },
     "execution_count": 7,
     "metadata": {},
     "output_type": "execute_result"
    }
   ],
   "source": [
    "Is_matched()"
   ]
  },
  {
   "cell_type": "markdown",
   "metadata": {},
   "source": [
    "Q 10"
   ]
  },
  {
   "cell_type": "code",
   "execution_count": 8,
   "metadata": {},
   "outputs": [],
   "source": [
    "a=Stack()"
   ]
  },
  {
   "cell_type": "code",
   "execution_count": 9,
   "metadata": {},
   "outputs": [],
   "source": [
    "a.push('w')"
   ]
  },
  {
   "cell_type": "code",
   "execution_count": 10,
   "metadata": {},
   "outputs": [
    {
     "data": {
      "text/plain": [
       "'w'"
      ]
     },
     "execution_count": 10,
     "metadata": {},
     "output_type": "execute_result"
    }
   ],
   "source": [
    "a[0]"
   ]
  },
  {
   "cell_type": "code",
   "execution_count": 11,
   "metadata": {},
   "outputs": [
    {
     "data": {
      "text/plain": [
       "1"
      ]
     },
     "execution_count": 11,
     "metadata": {},
     "output_type": "execute_result"
    }
   ],
   "source": [
    "a.len()"
   ]
  },
  {
   "cell_type": "code",
   "execution_count": 12,
   "metadata": {},
   "outputs": [
    {
     "ename": "AttributeError",
     "evalue": "'Stack' object has no attribute 'index'",
     "output_type": "error",
     "traceback": [
      "\u001b[1;31m---------------------------------------------------------------------------\u001b[0m",
      "\u001b[1;31mAttributeError\u001b[0m                            Traceback (most recent call last)",
      "\u001b[1;32m<ipython-input-12-f2bf832fc484>\u001b[0m in \u001b[0;36m<module>\u001b[1;34m\u001b[0m\n\u001b[1;32m----> 1\u001b[1;33m \u001b[0ma\u001b[0m\u001b[1;33m.\u001b[0m\u001b[0mindex\u001b[0m\u001b[1;33m(\u001b[0m\u001b[1;34m'w'\u001b[0m\u001b[1;33m)\u001b[0m\u001b[1;33m\u001b[0m\u001b[1;33m\u001b[0m\u001b[0m\n\u001b[0m",
      "\u001b[1;31mAttributeError\u001b[0m: 'Stack' object has no attribute 'index'"
     ]
    }
   ],
   "source": [
    "a.index('w')"
   ]
  },
  {
   "cell_type": "code",
   "execution_count": 13,
   "metadata": {},
   "outputs": [
    {
     "name": "stdout",
     "output_type": "stream",
     "text": [
      "None\n"
     ]
    }
   ],
   "source": [
    "openList = [\"[\",\"{\",\"(\"]\n",
    "closeList = [\"]\",\"}\",\")\"]\n",
    "def balance(myStr):\n",
    "    stack= []\n",
    "    for i in myStr:\n",
    "        if i in openList:\n",
    "            stack.append(i)\n",
    "        elif i in closeList:\n",
    "            pos = closeList.index(i)\n",
    "            if ((len(stack) > 0) and (openList[pos] == stack[len(stack)-1])):\n",
    "                stack.pop()\n",
    "            else:\n",
    "                return \"Unbalanced\"\n",
    "    if len(stack) == 0:\n",
    "        return \"Balanced\"\n",
    "  #  else:\n",
    "   #     return \"Unbalanced\"\n",
    "print (balance(' {[()](){} ')) "
   ]
  },
  {
   "cell_type": "code",
   "execution_count": 16,
   "metadata": {},
   "outputs": [
    {
     "name": "stdout",
     "output_type": "stream",
     "text": [
      "Enter mathematical expression\n",
      "()\n",
      "Unbalanced\n"
     ]
    }
   ],
   "source": [
    "\n",
    "def Is_matched():\n",
    "    myStr=input('Enter mathematical expression\\n')\n",
    "    openList = [\"[\",\"{\",\"(\"]\n",
    "    closeList = [\"]\",\"}\",\")\"]\n",
    "    stack= Stack()\n",
    "    for i in myStr:\n",
    "        if i in openList:\n",
    "            stack.push(i)\n",
    "        elif i in closeList:\n",
    "            pos = closeList.index(i)\n",
    "            if (int((stack.len()) > 0) and (openList[pos] == stack.position)):\n",
    "                stack.pop()\n",
    "        #    else:\n",
    "       #         return \"Unbalanced\"\n",
    "    if stack.len() == 0:\n",
    "        print(\"Balanced\")\n",
    "    else:\n",
    "        print(\"Unbalanced\")\n",
    "#print (balance(' {[()](){} ')) \n",
    "Is_matched()"
   ]
  },
  {
   "cell_type": "code",
   "execution_count": 34,
   "metadata": {},
   "outputs": [],
   "source": [
    "def check_kartay_hain(expression):\n",
    "    openList = [\"[\",\"{\",\"(\"]\n",
    "    closeList = [\"]\",\"}\",\")\"]\n",
    "    stack=Stack()\n",
    "    for i in range (0,stack.len()): \n",
    "        j= expression[i]\n",
    "        if j in openList:\n",
    "            stack.push(j)\n",
    "        elif j in closeList:\n",
    "            pos = closeList.index(j)\n",
    "            if ((stack.len() > 0) and (openList[pos] == stack.top)):\n",
    "                stack.pop()\n",
    "            else:\n",
    "                return 'Illegal'\n",
    "    if stack.len()==0:\n",
    "        return 'Legal'"
   ]
  },
  {
   "cell_type": "code",
   "execution_count": 35,
   "metadata": {},
   "outputs": [
    {
     "data": {
      "text/plain": [
       "'Legal'"
      ]
     },
     "execution_count": 35,
     "metadata": {},
     "output_type": "execute_result"
    }
   ],
   "source": [
    "check_kartay_hain('())')"
   ]
  },
  {
   "cell_type": "code",
   "execution_count": null,
   "metadata": {},
   "outputs": [],
   "source": []
  }
 ],
 "metadata": {
  "kernelspec": {
   "display_name": "Python 3",
   "language": "python",
   "name": "python3"
  },
  "language_info": {
   "codemirror_mode": {
    "name": "ipython",
    "version": 3
   },
   "file_extension": ".py",
   "mimetype": "text/x-python",
   "name": "python",
   "nbconvert_exporter": "python",
   "pygments_lexer": "ipython3",
   "version": "3.7.4"
  }
 },
 "nbformat": 4,
 "nbformat_minor": 2
}
